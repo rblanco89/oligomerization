{
 "cells": [
  {
   "cell_type": "code",
   "execution_count": 10,
   "id": "e699062a-bb27-4e6d-a186-a015ac66daac",
   "metadata": {},
   "outputs": [],
   "source": [
    "import numpy as np\n",
    "import MDAnalysis as mda\n",
    "from MDAnalysis.analysis import distances\n",
    "from igraph import Graph\n",
    "import matplotlib.pyplot as plt"
   ]
  },
  {
   "cell_type": "code",
   "execution_count": 18,
   "id": "6202b8d5-ad61-4eef-bf69-5aa268f07439",
   "metadata": {},
   "outputs": [],
   "source": [
    "eps = 3 # minimum distance to declare cluster\n",
    "refStruc = 'ang.pdb' # Location of Reference structure file\n",
    "traj = 'nopbc_vmd.trr' #  and Trajectories file\n",
    "initF = 0\n",
    "finishF = None"
   ]
  },
  {
   "cell_type": "code",
   "execution_count": 20,
   "id": "02d0ac66-0e47-491e-a158-d6b598a4adfd",
   "metadata": {},
   "outputs": [],
   "source": [
    "# Load trajectories\n",
    "angs = mda.Universe(refStruc, traj)"
   ]
  },
  {
   "cell_type": "code",
   "execution_count": 21,
   "id": "c7049d5d-0373-4395-952c-c2cd1f7af7de",
   "metadata": {},
   "outputs": [],
   "source": [
    "molecules = angs.segments.n_segments\n",
    "#atoms = angs.atoms.n_atoms//molecules\n",
    "residues = angs.residues.n_residues\n",
    "aminoAcids = residues//molecules\n",
    "box = angs.dimensions"
   ]
  },
  {
   "cell_type": "code",
   "execution_count": 22,
   "id": "315ab791-2f5c-476e-9a7d-7273c77dc8a1",
   "metadata": {},
   "outputs": [],
   "source": [
    "g = Graph();\n",
    "g.add_vertices(molecules)\n",
    "frame = []\n",
    "oligomers = []\n",
    "contactMap = np.zeros((aminoAcids, aminoAcids))\n",
    "\n",
    "for tt in angs.trajectory[initF:finishF]:\n",
    "    for i in range(molecules-1):\n",
    "        for j in range(i+1,molecules):\n",
    "            minDist = distances.distance_array(angs.segments[i].atoms.positions,\n",
    "                                               angs.segments[j].atoms.positions, box).min()\n",
    "            if(minDist > eps):\n",
    "                continue\n",
    "                \n",
    "            g.add_edge(i,j)\n",
    "            \n",
    "            for m in range(aminoAcids):\n",
    "                for n in range(aminoAcids):\n",
    "                    minDistRes = distances.distance_array(angs.segments[i].residues[m].atoms.positions,\n",
    "                                                        angs.segments[j].residues[n].atoms.positions, box).min()\n",
    "                    if (minDistRes > eps):\n",
    "                        continue\n",
    "                        \n",
    "                    contactMap[m][n] += 1\n",
    "                    contactMap[n][m] += 1\n",
    "                    \n",
    "    cs = g.clusters()\n",
    "    \n",
    "    clusters = [0 for i in range(molecules)]\n",
    "    \n",
    "    for cc in cs:\n",
    "        clusters[len(cc)-1] += 1\n",
    "        \n",
    "    oligomers.append(clusters)\n",
    "    \n",
    "    frame.append(tt.frame)\n",
    "     \n",
    "    g.delete_edges()"
   ]
  },
  {
   "cell_type": "code",
   "execution_count": 32,
   "id": "58d54e48-12a3-4087-a77a-d8a37fb118d1",
   "metadata": {},
   "outputs": [],
   "source": [
    "# Save data\n",
    "fOut = open ('oligomers.dat', 'w')\n",
    "for i, val in enumerate(oligomers):\n",
    "    fOut.write(f'{frame[i]}\\t')\n",
    "    for j in range(molecules):\n",
    "        if j == molecules - 1:\n",
    "            fOut.write(f'{val[j]}\\n')\n",
    "        else:\n",
    "            fOut.write(f'{val[j]}\\t')\n",
    "fOut.close()"
   ]
  },
  {
   "cell_type": "code",
   "execution_count": 24,
   "id": "7e5f8734-05d6-4e24-b95d-be3d5bf302d2",
   "metadata": {},
   "outputs": [],
   "source": [
    "normContactMap = contactMap/(contactMap.sum()/2) # It is divided by 2 because double count by pair\n",
    "np.savetxt('cMap.dat', normContactMap, fmt = '%0.6f') # Save matrix in a file"
   ]
  },
  {
   "cell_type": "code",
   "execution_count": 28,
   "id": "03d58222-51b4-47eb-98c2-012b3cdf3401",
   "metadata": {},
   "outputs": [],
   "source": [
    "resNames = angs.segments.resnames[0]\n",
    "np.savetxt('resNames.dat', resNames, fmt='%s') # Save residues names"
   ]
  },
  {
   "cell_type": "code",
   "execution_count": null,
   "id": "e26ec0bc-83f1-42ba-b03f-3df01136dc77",
   "metadata": {},
   "outputs": [],
   "source": []
  }
 ],
 "metadata": {
  "kernelspec": {
   "display_name": "Python 3 (ipykernel)",
   "language": "python",
   "name": "python3"
  },
  "language_info": {
   "codemirror_mode": {
    "name": "ipython",
    "version": 3
   },
   "file_extension": ".py",
   "mimetype": "text/x-python",
   "name": "python",
   "nbconvert_exporter": "python",
   "pygments_lexer": "ipython3",
   "version": "3.8.10"
  }
 },
 "nbformat": 4,
 "nbformat_minor": 5
}
